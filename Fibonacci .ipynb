{
 "cells": [
  {
   "cell_type": "markdown",
   "id": "204259e1",
   "metadata": {},
   "source": [
    "### Fibonachi Series :\n",
    "0,1,1,2,3,5,8,13,21,34..."
   ]
  },
  {
   "cell_type": "markdown",
   "id": "092579f3",
   "metadata": {},
   "source": [
    "##### Get the postion of the series "
   ]
  },
  {
   "cell_type": "code",
   "execution_count": 6,
   "id": "51676ecc",
   "metadata": {},
   "outputs": [
    {
     "name": "stdout",
     "output_type": "stream",
     "text": [
      "89\n"
     ]
    }
   ],
   "source": [
    "def getPosition(position):\n",
    "    if position == 0:\n",
    "        return 0\n",
    "    elif position == 1:\n",
    "        return 0\n",
    "    else:\n",
    "        l=[0,1]\n",
    "        for i in range(0,position -1):\n",
    "            a= l[i]+l[i+1]\n",
    "            l.append(a)\n",
    "        return a\n",
    "\n",
    "print(getPosition(11))\n",
    "        "
   ]
  },
  {
   "cell_type": "code",
   "execution_count": 7,
   "id": "d1299f1b",
   "metadata": {},
   "outputs": [
    {
     "name": "stdout",
     "output_type": "stream",
     "text": [
      "89\n"
     ]
    }
   ],
   "source": [
    "def getPosition(position):\n",
    "    if position == 0 or position == 1:\n",
    "        return position \n",
    "    return getPosition(position -1) + getPosition(position -2)\n",
    "\n",
    "print(getPosition(11))    "
   ]
  }
 ],
 "metadata": {
  "kernelspec": {
   "display_name": "Python 3 (ipykernel)",
   "language": "python",
   "name": "python3"
  },
  "language_info": {
   "codemirror_mode": {
    "name": "ipython",
    "version": 3
   },
   "file_extension": ".py",
   "mimetype": "text/x-python",
   "name": "python",
   "nbconvert_exporter": "python",
   "pygments_lexer": "ipython3",
   "version": "3.9.6"
  }
 },
 "nbformat": 4,
 "nbformat_minor": 5
}
