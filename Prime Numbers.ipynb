{
 "cells": [
  {
   "cell_type": "code",
   "execution_count": 1,
   "id": "4778cd6d",
   "metadata": {},
   "outputs": [
    {
     "name": "stdout",
     "output_type": "stream",
     "text": [
      "prime number = 1\n",
      "prime number = 2\n",
      "prime number = 3\n",
      "prime number = 5\n",
      "prime number = 7\n",
      "prime number = 11\n",
      "prime number = 13\n",
      "prime number = 17\n",
      "prime number = 19\n",
      "prime number = 23\n",
      "prime number = 29\n",
      "prime number = 31\n",
      "prime number = 37\n",
      "prime number = 41\n",
      "prime number = 43\n",
      "prime number = 47\n",
      "prime number = 53\n",
      "prime number = 59\n",
      "prime number = 61\n",
      "prime number = 67\n",
      "prime number = 71\n",
      "prime number = 73\n",
      "prime number = 79\n",
      "prime number = 83\n",
      "prime number = 89\n",
      "prime number = 97\n"
     ]
    }
   ],
   "source": [
    "def check(m):\n",
    "    for j in range(2,m-1):\n",
    "        if m%j == 0:\n",
    "            return 0\n",
    "\n",
    "for i in range(1,100):\n",
    "    result = check(i) \n",
    "    if result == 0:\n",
    "        continue\n",
    "    else:\n",
    "        print(f\"prime number = {i}\")"
   ]
  }
 ],
 "metadata": {
  "kernelspec": {
   "display_name": "Python 3 (ipykernel)",
   "language": "python",
   "name": "python3"
  },
  "language_info": {
   "codemirror_mode": {
    "name": "ipython",
    "version": 3
   },
   "file_extension": ".py",
   "mimetype": "text/x-python",
   "name": "python",
   "nbconvert_exporter": "python",
   "pygments_lexer": "ipython3",
   "version": "3.9.6"
  }
 },
 "nbformat": 4,
 "nbformat_minor": 5
}
