{
 "cells": [
  {
   "cell_type": "code",
   "execution_count": 1,
   "id": "cb3dd605",
   "metadata": {},
   "outputs": [
    {
     "name": "stdout",
     "output_type": "stream",
     "text": [
      "True\n"
     ]
    }
   ],
   "source": [
    "\"\"\" This will check two coorinate is equal or not \"\"\"\n",
    "\n",
    "\n",
    "class Coordinate(object):\n",
    "    def __init__(self,x,y):\n",
    "        self.x = x\n",
    "        self.y = y\n",
    "\n",
    "    def getX(self):\n",
    "        # Getter method for a Coordinate object's x coordinate.\n",
    "        # Getter methods are better practice than just accessing an attribute directly\n",
    "        return self.x\n",
    "\n",
    "    def getY(self):\n",
    "        # Getter method for a Coordinate object's y coordinate\n",
    "        return self.y\n",
    "\n",
    "    def __str__(self):\n",
    "        return '<' + str(self.getX()) + ',' + str(self.getY()) + '>'\n",
    "\n",
    "    def __eq__(self , other):\n",
    "        #assert type(other) == type(self)\n",
    "        return str(self.getX()) == str(other.getX()) and str(self.getY()) == str(other.getY())\n",
    "        \n",
    "    def __repr__(self):\n",
    "        return 'Coordinate(' + str(self.getX()) + ',' + str(self.getY()) + ')'\n",
    "\n",
    "c1 = Coordinate(1,-8)\n",
    "#print(c1)\n",
    "\n",
    "c2 = Coordinate(1,-8)\n",
    "#print(c2)\n",
    "\n",
    "print( c1 == c2 )\n",
    "#print(repr(c1))\n",
    "\n",
    "\n",
    "#c1 = Coordinate(1,-8)\n",
    "#print(c1)\n",
    "\n",
    "#c2 = Coordinate(1,-8)\n",
    "#print(c2)\n",
    "\n",
    "#print( c1 == c2 )\n",
    "#print(repr(c1))\n",
    "\n"
   ]
  }
 ],
 "metadata": {
  "kernelspec": {
   "display_name": "Python 3 (ipykernel)",
   "language": "python",
   "name": "python3"
  },
  "language_info": {
   "codemirror_mode": {
    "name": "ipython",
    "version": 3
   },
   "file_extension": ".py",
   "mimetype": "text/x-python",
   "name": "python",
   "nbconvert_exporter": "python",
   "pygments_lexer": "ipython3",
   "version": "3.9.6"
  }
 },
 "nbformat": 4,
 "nbformat_minor": 5
}
